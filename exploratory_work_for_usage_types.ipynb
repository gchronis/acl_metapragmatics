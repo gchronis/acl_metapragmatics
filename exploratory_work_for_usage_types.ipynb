{
 "cells": [
  {
   "cell_type": "markdown",
   "id": "45d4c6a5-deb0-4049-b1a5-0feb3180d880",
   "metadata": {},
   "source": [
    "# Calculate Usage Types"
   ]
  },
  {
   "cell_type": "markdown",
   "id": "1ef83041-1927-4167-b390-3254ca68ea61",
   "metadata": {},
   "source": [
    "Now that we have usages for words from both of our data sources, we want to cluster each data source into senses.\n",
    "For this we will follow the method from Giulianelli et al. "
   ]
  },
  {
   "cell_type": "code",
   "execution_count": 11,
   "id": "bb932978-153e-4319-bd81-f1773b5ab510",
   "metadata": {},
   "outputs": [],
   "source": [
    "import numpy as np\n",
    "import pandas as pd\n",
    "# import networkx as nx\n",
    "# import plotly.graph_objs as go\n",
    "# import plotly.io as pio\n",
    "\n",
    "from collections import defaultdict\n",
    "#from deprecated import deprecated\n",
    "from scipy.spatial.distance import cdist\n",
    "from tqdm import tqdm\n",
    "from string import ascii_uppercase\n",
    "from sklearn import preprocessing\n",
    "from sklearn.cluster import KMeans\n",
    "from sklearn.metrics import silhouette_score, calinski_harabasz_score\n",
    "from sklearn.mixture import GaussianMixture\n",
    "from transformers import BertTokenizer"
   ]
  },
  {
   "cell_type": "code",
   "execution_count": 12,
   "id": "0a8e3410-b594-4841-ae4a-ff74a6adf8cd",
   "metadata": {},
   "outputs": [],
   "source": [
    "# adapted from Giulianelli et al\n",
    "\n",
    "def best_kmeans(X, max_range=np.arange(2, 11), criterion='silhouette'):\n",
    "    \"\"\"\n",
    "    Return the best K-Means clustering given the data, a range of K values, and a K-selection criterion.\n",
    "\n",
    "    :param X: usage matrix (made of usage vectors)\n",
    "    :param max_range: range within the number of clusters should lie\n",
    "    :param criterion: K-selection criterion: 'silhouette' or 'calinski'\n",
    "    :return: best_model: KMeans model (sklearn.cluster.Kmeans) with best clustering according to the criterion\n",
    "             scores: list of tuples (k, s) indicating the clustering score s obtained using k clusters\n",
    "    \"\"\"\n",
    "    assert criterion in ['silhouette', 'calinski', 'harabasz', 'calinski-harabasz']\n",
    "\n",
    "    best_model, best_score = None, -1\n",
    "    scores = []\n",
    "\n",
    "    for k in max_range:\n",
    "        if k < X.shape[0]:\n",
    "            kmeans = KMeans(n_clusters=k, random_state=SEED)\n",
    "            cluster_labels = kmeans.fit_predict(X)\n",
    "\n",
    "            if criterion == 'silhouette':\n",
    "                score = silhouette_score(X, cluster_labels)\n",
    "            else:\n",
    "                score = calinski_harabasz_score(X, cluster_labels)\n",
    "\n",
    "            scores.append((k, score))\n",
    "\n",
    "            # if two clusterings yield the same score, keep the one that results from a smaller K\n",
    "            if score > best_score:\n",
    "                best_model, best_score = kmeans, score\n",
    "\n",
    "    return best_model, scores"
   ]
  },
  {
   "cell_type": "code",
   "execution_count": 13,
   "id": "fb9efd2b-9068-41b0-90cf-0e3b4c27f5e9",
   "metadata": {},
   "outputs": [],
   "source": [
    "# first we need to get the matrix of bert context vectors for a word. Let's start with 'model'"
   ]
  },
  {
   "cell_type": "code",
   "execution_count": 14,
   "id": "c401ec4e-ec3d-4797-b330-4639de3cdb32",
   "metadata": {},
   "outputs": [],
   "source": [
    "word = 'model'\n",
    "\n",
    "tokens = pd.read_csv('./collected_tokens/acl/{}.csv'.format(word))"
   ]
  },
  {
   "cell_type": "code",
   "execution_count": 15,
   "id": "3ef749c5-c655-4adf-9551-53a65e2d77ea",
   "metadata": {},
   "outputs": [
    {
     "data": {
      "text/html": [
       "<div>\n",
       "<style scoped>\n",
       "    .dataframe tbody tr th:only-of-type {\n",
       "        vertical-align: middle;\n",
       "    }\n",
       "\n",
       "    .dataframe tbody tr th {\n",
       "        vertical-align: top;\n",
       "    }\n",
       "\n",
       "    .dataframe thead th {\n",
       "        text-align: right;\n",
       "    }\n",
       "</style>\n",
       "<table border=\"1\" class=\"dataframe\">\n",
       "  <thead>\n",
       "    <tr style=\"text-align: right;\">\n",
       "      <th></th>\n",
       "      <th>Unnamed: 0</th>\n",
       "      <th>corpus_id</th>\n",
       "      <th>sentence</th>\n",
       "      <th>start_idx</th>\n",
       "      <th>end_idx</th>\n",
       "    </tr>\n",
       "  </thead>\n",
       "  <tbody>\n",
       "    <tr>\n",
       "      <th>0</th>\n",
       "      <td>0</td>\n",
       "      <td>18022704</td>\n",
       "      <td>Since the similarity measure based on the vect...</td>\n",
       "      <td>9</td>\n",
       "      <td>10</td>\n",
       "    </tr>\n",
       "    <tr>\n",
       "      <th>1</th>\n",
       "      <td>1</td>\n",
       "      <td>18022704</td>\n",
       "      <td>e) Words with similar contexts might not be sy...</td>\n",
       "      <td>19</td>\n",
       "      <td>20</td>\n",
       "    </tr>\n",
       "    <tr>\n",
       "      <th>2</th>\n",
       "      <td>2</td>\n",
       "      <td>18022704</td>\n",
       "      <td>Therefore, the vector space model should incor...</td>\n",
       "      <td>5</td>\n",
       "      <td>6</td>\n",
       "    </tr>\n",
       "    <tr>\n",
       "      <th>3</th>\n",
       "      <td>3</td>\n",
       "      <td>18022704</td>\n",
       "      <td>Conclusions In this paper, we have adopted the...</td>\n",
       "      <td>11</td>\n",
       "      <td>12</td>\n",
       "    </tr>\n",
       "    <tr>\n",
       "      <th>4</th>\n",
       "      <td>4</td>\n",
       "      <td>16703040</td>\n",
       "      <td>Based on a review of our misclassified instanc...</td>\n",
       "      <td>20</td>\n",
       "      <td>21</td>\n",
       "    </tr>\n",
       "  </tbody>\n",
       "</table>\n",
       "</div>"
      ],
      "text/plain": [
       "   Unnamed: 0  corpus_id                                           sentence  \\\n",
       "0           0   18022704  Since the similarity measure based on the vect...   \n",
       "1           1   18022704  e) Words with similar contexts might not be sy...   \n",
       "2           2   18022704  Therefore, the vector space model should incor...   \n",
       "3           3   18022704  Conclusions In this paper, we have adopted the...   \n",
       "4           4   16703040  Based on a review of our misclassified instanc...   \n",
       "\n",
       "   start_idx  end_idx  \n",
       "0          9       10  \n",
       "1         19       20  \n",
       "2          5        6  \n",
       "3         11       12  \n",
       "4         20       21  "
      ]
     },
     "execution_count": 15,
     "metadata": {},
     "output_type": "execute_result"
    }
   ],
   "source": [
    "tokens.head(5)"
   ]
  },
  {
   "cell_type": "code",
   "execution_count": null,
   "id": "ee75531c-43a0-4fce-a6ad-045ffe9e2afd",
   "metadata": {},
   "outputs": [],
   "source": []
  }
 ],
 "metadata": {
  "kernelspec": {
   "display_name": "Python 3 (ipykernel)",
   "language": "python",
   "name": "python3"
  },
  "language_info": {
   "codemirror_mode": {
    "name": "ipython",
    "version": 3
   },
   "file_extension": ".py",
   "mimetype": "text/x-python",
   "name": "python",
   "nbconvert_exporter": "python",
   "pygments_lexer": "ipython3",
   "version": "3.11.6"
  }
 },
 "nbformat": 4,
 "nbformat_minor": 5
}
