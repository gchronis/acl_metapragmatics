{
 "cells": [
  {
   "cell_type": "markdown",
   "id": "cdf69d9c-029d-4f0f-8a38-5d804f8caacf",
   "metadata": {},
   "source": [
    "### Predict the most important features for each cluster\n",
    "\n",
    "Let's look at the 1000 sample data points for the word 'model'.\n",
    "\n",
    "We'll sample at random, embed the usages, and generate clusters on the fly. Then, we'll pull the features that we have saved for each of those tokens. "
   ]
  },
  {
   "cell_type": "code",
   "execution_count": null,
   "id": "ea5d651a-f8e7-44a0-9672-0643df64b6aa",
   "metadata": {},
   "outputs": [],
   "source": [
    "import numpy as np\n",
    "import pandas as pd"
   ]
  },
  {
   "cell_type": "code",
   "execution_count": null,
   "id": "84932794-f82e-43a6-9cf2-fbc114004603",
   "metadata": {},
   "outputs": [],
   "source": [
    "sources = [\"acl\"]\n",
    "word = \"model\"\n",
    "k_means_n = 5"
   ]
  },
  {
   "cell_type": "code",
   "execution_count": null,
   "id": "549087e2-8d46-4ff9-ae2c-99a33c465ba6",
   "metadata": {},
   "outputs": [],
   "source": [
    "# sample tokens of 'model' from ACL\n",
    "\n",
    "df = pd.read_csv('./collected_tokens/acl/{}.csv'.format(source,word))\n",
    "df['source'] = source\n",
    "\n",
    "# get senteces that are less than 150 in length\n",
    "df[\n",
    "    df[\"sentence\"].apply(lambda x: len(x) > 100)\n",
    "]\n",
    "\n",
    "# get senteces that are less than 150 in length\n",
    "df[\"sentence\"] = df[\"sentence\"].apply(lambda x: x.encode('ascii', 'ignore').decode('ascii', 'ignore'))\n",
    "\n",
    "####### REAL ######\n",
    "# Take at most 200 sentences.\n",
    "sample_df = df.sample(1000, random_state=42) # use a fixed seed for reproducibility"
   ]
  },
  {
   "cell_type": "code",
   "execution_count": null,
   "id": "6c0df15b-2a4b-4ee1-a3bd-9eb7185ef5c0",
   "metadata": {},
   "outputs": [],
   "source": [
    "\n",
    "# load the features for this word and get the features for this sample\n",
    "feature_embs = pd.read_csv('/Volumes/data_gabriella_chronis/workspace/acl_metapragmatics/collected_tokens/acl/model_\n",
    "feature_sample = y[sample_df.index]"
   ]
  },
  {
   "cell_type": "code",
   "execution_count": null,
   "id": "f34d5d29-9e2d-4341-8d54-151df1ca1465",
   "metadata": {},
   "outputs": [],
   "source": []
  }
 ],
 "metadata": {
  "kernelspec": {
   "display_name": "Python 3 (ipykernel)",
   "language": "python",
   "name": "python3"
  },
  "language_info": {
   "codemirror_mode": {
    "name": "ipython",
    "version": 3
   },
   "file_extension": ".py",
   "mimetype": "text/x-python",
   "name": "python",
   "nbconvert_exporter": "python",
   "pygments_lexer": "ipython3",
   "version": "3.11.6"
  }
 },
 "nbformat": 4,
 "nbformat_minor": 5
}
