{
 "cells": [
  {
   "cell_type": "code",
   "execution_count": 1,
   "id": "22418089-81e9-4036-bacb-ef18605140a4",
   "metadata": {},
   "outputs": [
    {
     "name": "stderr",
     "output_type": "stream",
     "text": [
      "2024-03-29 00:32:24.654756: I tensorflow/core/platform/cpu_feature_guard.cc:182] This TensorFlow binary is optimized to use available CPU instructions in performance-critical operations.\n",
      "To enable the following instructions: AVX2 FMA, in other operations, rebuild TensorFlow with the appropriate compiler flags.\n"
     ]
    }
   ],
   "source": [
    "from __future__ import print_function\n",
    "import time\n",
    "import numpy as np\n",
    "import pandas as pd\n",
    "import pyarrow\n",
    "import fastparquet\n",
    "from sklearn.decomposition import PCA\n",
    "from sklearn.manifold import TSNE\n",
    "%matplotlib inline\n",
    "import matplotlib.pyplot as plt\n",
    "from mpl_toolkits.mplot3d import Axes3D\n",
    "import seaborn as sns\n",
    "import csv\n",
    "import textwrap\n",
    "from scipy.spatial.distance import cosine\n",
    "\n",
    "import spacy\n",
    "from collections import defaultdict \n",
    "from tqdm import tqdm"
   ]
  },
  {
   "cell_type": "markdown",
   "id": "93333dc5-b30c-4979-8c58-25dd456d18ca",
   "metadata": {},
   "source": [
    "# ACL Archive Data\n",
    "\n",
    "This notebook develops a script for extracting sentences containing a set of target metapragmatic words from the acl archive. Dataset available here: https://paperswithcode.com/dataset/acl-anthology-corpus-with-full-text"
   ]
  },
  {
   "cell_type": "markdown",
   "id": "59777fd4-58c6-417f-a05e-43119804f542",
   "metadata": {},
   "source": [
    "Load the data from .parquet format"
   ]
  },
  {
   "cell_type": "code",
   "execution_count": 2,
   "id": "85dca470-1d45-47fa-8c54-d13baa5a9b50",
   "metadata": {},
   "outputs": [],
   "source": [
    "parquet_file = \"/Volumes/data_gabriella_chronis/corpora/acl-publication-info.74k.parquet\"\n",
    "\n",
    "df = pd.read_parquet(parquet_file, engine='pyarrow')"
   ]
  },
  {
   "cell_type": "code",
   "execution_count": 3,
   "id": "6ddedd1e-2fae-4ad7-b0a0-72c388f6f0be",
   "metadata": {},
   "outputs": [
    {
     "data": {
      "text/html": [
       "<div>\n",
       "<style scoped>\n",
       "    .dataframe tbody tr th:only-of-type {\n",
       "        vertical-align: middle;\n",
       "    }\n",
       "\n",
       "    .dataframe tbody tr th {\n",
       "        vertical-align: top;\n",
       "    }\n",
       "\n",
       "    .dataframe thead th {\n",
       "        text-align: right;\n",
       "    }\n",
       "</style>\n",
       "<table border=\"1\" class=\"dataframe\">\n",
       "  <thead>\n",
       "    <tr style=\"text-align: right;\">\n",
       "      <th></th>\n",
       "      <th>acl_id</th>\n",
       "      <th>abstract</th>\n",
       "      <th>full_text</th>\n",
       "      <th>corpus_paper_id</th>\n",
       "      <th>pdf_hash</th>\n",
       "      <th>numcitedby</th>\n",
       "      <th>url</th>\n",
       "      <th>publisher</th>\n",
       "      <th>address</th>\n",
       "      <th>year</th>\n",
       "      <th>...</th>\n",
       "      <th>booktitle</th>\n",
       "      <th>author</th>\n",
       "      <th>title</th>\n",
       "      <th>pages</th>\n",
       "      <th>doi</th>\n",
       "      <th>number</th>\n",
       "      <th>volume</th>\n",
       "      <th>journal</th>\n",
       "      <th>editor</th>\n",
       "      <th>isbn</th>\n",
       "    </tr>\n",
       "  </thead>\n",
       "  <tbody>\n",
       "    <tr>\n",
       "      <th>0</th>\n",
       "      <td>O02-2002</td>\n",
       "      <td>There is a need to measure word similarity whe...</td>\n",
       "      <td>There is a need to measure word similarity whe...</td>\n",
       "      <td>18022704</td>\n",
       "      <td>0b09178ac8d17a92f16140365363d8df88c757d0</td>\n",
       "      <td>14</td>\n",
       "      <td>https://aclanthology.org/O02-2002</td>\n",
       "      <td>None</td>\n",
       "      <td>None</td>\n",
       "      <td>2002</td>\n",
       "      <td>...</td>\n",
       "      <td>International Journal of Computational Linguis...</td>\n",
       "      <td>Chen, Keh-Jiann  and\\nYou, Jia-Ming</td>\n",
       "      <td>A Study on Word Similarity using Context Vecto...</td>\n",
       "      <td>37--58</td>\n",
       "      <td>None</td>\n",
       "      <td>None</td>\n",
       "      <td>None</td>\n",
       "      <td>None</td>\n",
       "      <td>None</td>\n",
       "      <td>None</td>\n",
       "    </tr>\n",
       "    <tr>\n",
       "      <th>1</th>\n",
       "      <td>L02-1310</td>\n",
       "      <td></td>\n",
       "      <td></td>\n",
       "      <td>8220988</td>\n",
       "      <td>8d5e31610bc82c2abc86bc20ceba684c97e66024</td>\n",
       "      <td>93</td>\n",
       "      <td>http://www.lrec-conf.org/proceedings/lrec2002/...</td>\n",
       "      <td>European Language Resources Association (ELRA)</td>\n",
       "      <td>Las Palmas, Canary Islands - Spain</td>\n",
       "      <td>2002</td>\n",
       "      <td>...</td>\n",
       "      <td>Proceedings of the Third International Confere...</td>\n",
       "      <td>Mihalcea, Rada F.</td>\n",
       "      <td>Bootstrapping Large Sense Tagged Corpora</td>\n",
       "      <td>None</td>\n",
       "      <td>None</td>\n",
       "      <td>None</td>\n",
       "      <td>None</td>\n",
       "      <td>None</td>\n",
       "      <td>None</td>\n",
       "      <td>None</td>\n",
       "    </tr>\n",
       "    <tr>\n",
       "      <th>2</th>\n",
       "      <td>R13-1042</td>\n",
       "      <td>Thread disentanglement is the task of separati...</td>\n",
       "      <td>Thread disentanglement is the task of separati...</td>\n",
       "      <td>16703040</td>\n",
       "      <td>3eb736b17a5acb583b9a9bd99837427753632cdb</td>\n",
       "      <td>10</td>\n",
       "      <td>https://aclanthology.org/R13-1042</td>\n",
       "      <td>INCOMA Ltd. Shoumen, BULGARIA</td>\n",
       "      <td>Hissar, Bulgaria</td>\n",
       "      <td>2013</td>\n",
       "      <td>...</td>\n",
       "      <td>Proceedings of the International Conference Re...</td>\n",
       "      <td>Jamison, Emily  and\\nGurevych, Iryna</td>\n",
       "      <td>Headerless, Quoteless, but not Hopeless? Using...</td>\n",
       "      <td>327--335</td>\n",
       "      <td>None</td>\n",
       "      <td>None</td>\n",
       "      <td>None</td>\n",
       "      <td>None</td>\n",
       "      <td>None</td>\n",
       "      <td>None</td>\n",
       "    </tr>\n",
       "    <tr>\n",
       "      <th>3</th>\n",
       "      <td>W05-0819</td>\n",
       "      <td>In this paper, we describe a word alignment al...</td>\n",
       "      <td>In this paper, we describe a word alignment al...</td>\n",
       "      <td>1215281</td>\n",
       "      <td>b20450f67116e59d1348fc472cfc09f96e348f55</td>\n",
       "      <td>15</td>\n",
       "      <td>https://aclanthology.org/W05-0819</td>\n",
       "      <td>Association for Computational Linguistics</td>\n",
       "      <td>Ann Arbor, Michigan</td>\n",
       "      <td>2005</td>\n",
       "      <td>...</td>\n",
       "      <td>Proceedings of the {ACL} Workshop on Building ...</td>\n",
       "      <td>Aswani, Niraj  and\\nGaizauskas, Robert</td>\n",
       "      <td>Aligning Words in {E}nglish-{H}indi Parallel C...</td>\n",
       "      <td>115--118</td>\n",
       "      <td>None</td>\n",
       "      <td>None</td>\n",
       "      <td>None</td>\n",
       "      <td>None</td>\n",
       "      <td>None</td>\n",
       "      <td>None</td>\n",
       "    </tr>\n",
       "    <tr>\n",
       "      <th>4</th>\n",
       "      <td>L02-1309</td>\n",
       "      <td></td>\n",
       "      <td></td>\n",
       "      <td>18078432</td>\n",
       "      <td>011e943b64a78dadc3440674419821ee080f0de3</td>\n",
       "      <td>12</td>\n",
       "      <td>http://www.lrec-conf.org/proceedings/lrec2002/...</td>\n",
       "      <td>European Language Resources Association (ELRA)</td>\n",
       "      <td>Las Palmas, Canary Islands - Spain</td>\n",
       "      <td>2002</td>\n",
       "      <td>...</td>\n",
       "      <td>Proceedings of the Third International Confere...</td>\n",
       "      <td>Suyaga, Fumiaki  and\\nTakezawa, Toshiyuki  and...</td>\n",
       "      <td>Proposal of a very-large-corpus acquisition me...</td>\n",
       "      <td>None</td>\n",
       "      <td>None</td>\n",
       "      <td>None</td>\n",
       "      <td>None</td>\n",
       "      <td>None</td>\n",
       "      <td>None</td>\n",
       "      <td>None</td>\n",
       "    </tr>\n",
       "  </tbody>\n",
       "</table>\n",
       "<p>5 rows × 21 columns</p>\n",
       "</div>"
      ],
      "text/plain": [
       "     acl_id                                           abstract  \\\n",
       "0  O02-2002  There is a need to measure word similarity whe...   \n",
       "1  L02-1310                                                      \n",
       "2  R13-1042  Thread disentanglement is the task of separati...   \n",
       "3  W05-0819  In this paper, we describe a word alignment al...   \n",
       "4  L02-1309                                                      \n",
       "\n",
       "                                           full_text  corpus_paper_id  \\\n",
       "0  There is a need to measure word similarity whe...         18022704   \n",
       "1                                                             8220988   \n",
       "2  Thread disentanglement is the task of separati...         16703040   \n",
       "3  In this paper, we describe a word alignment al...          1215281   \n",
       "4                                                            18078432   \n",
       "\n",
       "                                   pdf_hash  numcitedby  \\\n",
       "0  0b09178ac8d17a92f16140365363d8df88c757d0          14   \n",
       "1  8d5e31610bc82c2abc86bc20ceba684c97e66024          93   \n",
       "2  3eb736b17a5acb583b9a9bd99837427753632cdb          10   \n",
       "3  b20450f67116e59d1348fc472cfc09f96e348f55          15   \n",
       "4  011e943b64a78dadc3440674419821ee080f0de3          12   \n",
       "\n",
       "                                                 url  \\\n",
       "0                  https://aclanthology.org/O02-2002   \n",
       "1  http://www.lrec-conf.org/proceedings/lrec2002/...   \n",
       "2                  https://aclanthology.org/R13-1042   \n",
       "3                  https://aclanthology.org/W05-0819   \n",
       "4  http://www.lrec-conf.org/proceedings/lrec2002/...   \n",
       "\n",
       "                                        publisher  \\\n",
       "0                                            None   \n",
       "1  European Language Resources Association (ELRA)   \n",
       "2                   INCOMA Ltd. Shoumen, BULGARIA   \n",
       "3       Association for Computational Linguistics   \n",
       "4  European Language Resources Association (ELRA)   \n",
       "\n",
       "                              address  year  ...  \\\n",
       "0                                None  2002  ...   \n",
       "1  Las Palmas, Canary Islands - Spain  2002  ...   \n",
       "2                    Hissar, Bulgaria  2013  ...   \n",
       "3                 Ann Arbor, Michigan  2005  ...   \n",
       "4  Las Palmas, Canary Islands - Spain  2002  ...   \n",
       "\n",
       "                                           booktitle  \\\n",
       "0  International Journal of Computational Linguis...   \n",
       "1  Proceedings of the Third International Confere...   \n",
       "2  Proceedings of the International Conference Re...   \n",
       "3  Proceedings of the {ACL} Workshop on Building ...   \n",
       "4  Proceedings of the Third International Confere...   \n",
       "\n",
       "                                              author  \\\n",
       "0                Chen, Keh-Jiann  and\\nYou, Jia-Ming   \n",
       "1                                  Mihalcea, Rada F.   \n",
       "2               Jamison, Emily  and\\nGurevych, Iryna   \n",
       "3             Aswani, Niraj  and\\nGaizauskas, Robert   \n",
       "4  Suyaga, Fumiaki  and\\nTakezawa, Toshiyuki  and...   \n",
       "\n",
       "                                               title     pages   doi number  \\\n",
       "0  A Study on Word Similarity using Context Vecto...    37--58  None   None   \n",
       "1           Bootstrapping Large Sense Tagged Corpora      None  None   None   \n",
       "2  Headerless, Quoteless, but not Hopeless? Using...  327--335  None   None   \n",
       "3  Aligning Words in {E}nglish-{H}indi Parallel C...  115--118  None   None   \n",
       "4  Proposal of a very-large-corpus acquisition me...      None  None   None   \n",
       "\n",
       "  volume journal editor  isbn  \n",
       "0   None    None   None  None  \n",
       "1   None    None   None  None  \n",
       "2   None    None   None  None  \n",
       "3   None    None   None  None  \n",
       "4   None    None   None  None  \n",
       "\n",
       "[5 rows x 21 columns]"
      ]
     },
     "execution_count": 3,
     "metadata": {},
     "output_type": "execute_result"
    }
   ],
   "source": [
    "df.head()"
   ]
  },
  {
   "cell_type": "code",
   "execution_count": 4,
   "id": "6106f2ce-4736-4626-b9cd-558e4d301a17",
   "metadata": {},
   "outputs": [
    {
     "data": {
      "text/plain": [
       "'Progress in Question Answering can be achieved by (1) combining multiple strategies that optimally resolve different question classes of various degrees of complexity; (2) enhancing the precision of question interpretation and answer extraction; and (3) question decomposition and answer fusion. In this paper we also present the impact of modeling the user background on Q/A and discuss the pragmatics pf processing negation in Q/A. Introduction Our fundamental premise is that progress in Q/A cannot be achieved only by enhancing the processing components, but it also requires generating the best strategies for processing each individual question. Thus we believe that Q/A systems capable of successfully processing complex questions should employ multiple strategies instead of the current pipeline approach, consisting of (1) question processing, (2) passage retrieval and (3) answer selection. The pipeline architecture was reported in (Prager et al., 2000; Moldovan et al., 2000; Hovy et al.,'"
      ]
     },
     "execution_count": 4,
     "metadata": {},
     "output_type": "execute_result"
    }
   ],
   "source": [
    "df.iloc[10000][\"full_text\"][:1000]"
   ]
  },
  {
   "cell_type": "code",
   "execution_count": 5,
   "id": "71a954d3-e2a5-482b-ab8d-4cfa4ad078a2",
   "metadata": {},
   "outputs": [
    {
     "data": {
      "text/plain": [
       "73285"
      ]
     },
     "execution_count": 5,
     "metadata": {},
     "output_type": "execute_result"
    }
   ],
   "source": [
    "# number of papers\n",
    "len(df)"
   ]
  },
  {
   "cell_type": "code",
   "execution_count": 6,
   "id": "d2e4e127-cc83-49cf-a7b8-49bc7c10ec0f",
   "metadata": {},
   "outputs": [
    {
     "name": "stdout",
     "output_type": "stream",
     "text": [
      "30751\n",
      "14799\n"
     ]
    }
   ],
   "source": [
    "# length of one paper\n",
    "print(len(df.iloc[10000][\"full_text\"]))\n",
    "print(len(df.iloc[70000][\"full_text\"]))\n"
   ]
  },
  {
   "cell_type": "markdown",
   "id": "3fef95cd-cd8f-4b69-a3fb-b105b295fb57",
   "metadata": {},
   "source": [
    "So we are probably working with something like 30k x 70k words which is 2100k which is 2.1 million words? Thats not so bad. "
   ]
  },
  {
   "cell_type": "code",
   "execution_count": 7,
   "id": "bf364778-7f1a-4d0f-9186-a04b41229db0",
   "metadata": {},
   "outputs": [
    {
     "name": "stdout",
     "output_type": "stream",
     "text": [
      "1952\n",
      "2022\n"
     ]
    }
   ],
   "source": [
    "print(df.year.min())\n",
    "print(df.year.max())"
   ]
  },
  {
   "cell_type": "code",
   "execution_count": 8,
   "id": "d4367130-c6c6-4058-80c3-69741ffaf007",
   "metadata": {},
   "outputs": [
    {
     "data": {
      "image/png": "[encoded data removed]",
      "text/plain": [
       "<Figure size 1170x827 with 1 Axes>"
      ]
     },
     "metadata": {},
     "output_type": "display_data"
    }
   ],
   "source": [
    "# plot of the number of papers per year\n",
    "\n",
    "df['year'] = df.year.astype('category')\n",
    "\n",
    "sns.set_theme(rc={'figure.figsize':(11.7,8.27)})\n",
    "ax = sns.histplot(data=df, x=\"year\", bins=10)\n",
    "\n",
    "for label in ax.get_xticklabels(which='major'):\n",
    "    label.set(rotation=30, horizontalalignment='right')\n",
    "plt.tight_layout()\n",
    "plt.show()"
   ]
  },
  {
   "cell_type": "markdown",
   "id": "bef396c0-3917-4a70-bfa4-974706dfff3f",
   "metadata": {},
   "source": []
  },
  {
   "cell_type": "code",
   "execution_count": 9,
   "id": "e1fbe219-824d-415e-9f85-ea26973a8982",
   "metadata": {},
   "outputs": [],
   "source": [
    "targets = [\"language\", \"say\", \"correct\"]"
   ]
  },
  {
   "cell_type": "code",
   "execution_count": 12,
   "id": "989a692a-e627-4da0-b31f-7aed20f0f506",
   "metadata": {},
   "outputs": [],
   "source": [
    "from spacy.matcher import PhraseMatcher, Matcher\n",
    "\n",
    "#nlp = spacy.load('en_core_web_sm') # Load the English Model\n",
    "nlp = spacy.load(\"en_core_web_sm\", disable=[\"tok2vec\", \"tagger\", \"parser\", \"attribute_ruler\", \"lemmatizer\", \"ner\"])\n",
    "nlp.add_pipe('sentencizer')\n",
    "\n",
    "def build_phrase_matcher(targets=None):\n",
    "    \"\"\"\n",
    "    expects a dictionary of match labels and phrases. If not provided, uses targets defined in this function\n",
    "    \"\"\"\n",
    "    print(targets)\n",
    "\n",
    "    phrase_matcher = Matcher(nlp.vocab)\n",
    "    # phrases = ['language', 'model', 'intelligence', 'predict', 'human']\n",
    "    # patterns = [nlp(text) for text in phrases]\n",
    "    # phrase_matcher.add('AI', None, *patterns)\n",
    "    # phrase_matcher.add('say', None, *[nlp(text) for text in ['say', 'said', 'speak', 'spoke']])\n",
    "\n",
    "\n",
    "    for word in targets:\n",
    "        print(word)\n",
    "        phrase_matcher.add(word, [[{\"orth\": word}]])\n",
    "        nlp.vocab.strings.add(word)\n",
    "    \n",
    "    return phrase_matcher\n",
    "\n",
    "def add_matches_to_dict(match_list, match_dict, doc_id, sent_text):\n",
    "    \"\"\"\n",
    "    match list is in the form of a list of tuples [(match_phrase_id, start index, end index)]\n",
    "    \"\"\"\n",
    "    for match in match_list:\n",
    "        word = match[0]\n",
    "        start_idx = match[1]\n",
    "        end_idx = match[2]\n",
    "        entry = {\"corpus_id\": doc_id, \"sentence\": sent_text, \"start_idx\": start_idx, \"end_idx\": end_idx}\n",
    "        match_dict[word].append(entry)\n",
    "    return match_dict\n",
    "\n",
    "def get_matches_in_doc(doc_id, doc_text, phrase_matcher, matches=None):\n",
    "    \"\"\"\n",
    "    searches through a docstring to extract a given token.\n",
    "    ::\n",
    "    \"\"\"\n",
    "    if matches is None:\n",
    "        matches = defaultdict(list)\n",
    "    \n",
    "    doc = nlp(doc_text)\n",
    "    for sent in doc.sents:\n",
    "        # this will be a list of tuples\n",
    "        this_sent_matches = phrase_matcher(nlp(sent.text))\n",
    "        matches = add_matches_to_dict(this_sent_matches, matches, doc_id, sent)\n",
    "        \n",
    "    return matches\n",
    "\n",
    "\n",
    "def get_matches_in_corpus(df, targets, phrase_matcher=phrase_matcher, outdir=None):\n",
    "\n",
    "    if phrase_matcher is None:\n",
    "        phrase_matcher = build_phrase_matcher(targets = targets)\n",
    "    \n",
    "    matches = defaultdict(list)\n",
    "    for idx, row in tqdm(df.iterrows()):\n",
    "        matches = get_matches_in_doc(row.corpus_paper_id, row.full_text, phrase_matcher, matches)\n",
    "        #print(matches)\n",
    "    #get the word as opposed to the spacy vocab id\n",
    "    for key in list(matches.keys()):\n",
    "        word = nlp.vocab.strings[key]\n",
    "        \n",
    "        matches_df = pd.DataFrame.from_records(matches.pop(key))\n",
    "        if outdir:\n",
    "            matches_df.to_csv(outdir+'/'+word+'.csv')\n",
    "\n",
    "\n",
    "# TEST\n",
    "#phrase_matcher = build_phrase_matcher(targets=targets)\n",
    "#print(phrase_matcher)\n",
    "#m = get_matches_in_doc( df.corpus_paper_id[1000], df.full_text[1000], phrase_matcher)\n",
    "\n",
    "\n",
    "#m = get_matches_in_corpus(df[:2], targets, outdir='./data/test', phrase_matcher=phrase_matcher)"
   ]
  },
  {
   "cell_type": "code",
   "execution_count": 14,
   "id": "7bbfa6d3-b958-4624-9428-2cfe013565fd",
   "metadata": {},
   "outputs": [
    {
     "name": "stdout",
     "output_type": "stream",
     "text": [
      "['toxic', 'toxicity', 'hallucination', 'hallucinate', 'safe', 'safety']\n",
      "toxic\n",
      "toxicity\n",
      "hallucination\n",
      "hallucinate\n",
      "safe\n",
      "safety\n"
     ]
    },
    {
     "name": "stderr",
     "output_type": "stream",
     "text": [
      "73285it [26:09, 46.71it/s] \n"
     ]
    }
   ],
   "source": [
    "# get all matches for a couple words\n",
    "\n",
    "#targets = [\"reason\", \"intuition\", \"rational\", \"human\", \"logic\", \"fact\", \"true\", \"truth\", \"false\", \"refer\"]\n",
    "#targets = [\"meaning\"]\n",
    "#targets = [\"bias\", \"behavior\", \"desired\", \"rationality\", \"interpretation\", \"representation\"]\n",
    "targets = [\"toxic\", \"toxicity\", \"hallucination\", \"hallucinate\", \"safe\", \"safety\"]\n",
    "\n",
    "outdir = 'collected_tokens/acl'\n",
    "phrase_matcher = build_phrase_matcher(targets=targets)\n",
    "\n",
    "get_matches_in_corpus(df, targets, outdir=outdir, phrase_matcher=phrase_matcher)"
   ]
  },
  {
   "cell_type": "code",
   "execution_count": null,
   "id": "30a207ec-b91e-4ec8-b620-c4bcb0b38457",
   "metadata": {},
   "outputs": [],
   "source": [
    "nlp.vocab[5530044837203964789]"
   ]
  },
  {
   "cell_type": "code",
   "execution_count": null,
   "id": "d3ffaf2a-587f-4d61-a32f-89196fb871f4",
   "metadata": {},
   "outputs": [],
   "source": []
  },
  {
   "cell_type": "markdown",
   "id": "47a99ad0-5cf5-471b-a2aa-71e3b09092d9",
   "metadata": {},
   "source": [
    "# "
   ]
  },
  {
   "cell_type": "markdown",
   "id": "650959dd-b873-4bac-8382-d17e3462afd9",
   "metadata": {},
   "source": [
    "# "
   ]
  }
 ],
 "metadata": {
  "kernelspec": {
   "display_name": "Python 3 (ipykernel)",
   "language": "python",
   "name": "python3"
  },
  "language_info": {
   "codemirror_mode": {
    "name": "ipython",
    "version": 3
   },
   "file_extension": ".py",
   "mimetype": "text/x-python",
   "name": "python",
   "nbconvert_exporter": "python",
   "pygments_lexer": "ipython3",
   "version": "3.11.6"
  }
 },
 "nbformat": 4,
 "nbformat_minor": 5
}
